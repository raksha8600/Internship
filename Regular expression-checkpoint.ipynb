{
 "cells": [
  {
   "cell_type": "code",
   "execution_count": 1,
   "id": "93f485b1-ebfa-4659-8d73-74f44fa640e0",
   "metadata": {},
   "outputs": [
    {
     "name": "stdout",
     "output_type": "stream",
     "text": [
      "Python:Exercises::PHP:exercises:\n"
     ]
    }
   ],
   "source": [
    "import re\n",
    "\n",
    "def replace_characters(text):\n",
    "    pattern = r'[ ,.]'\n",
    "    new_text = re.sub(pattern, ':', text)\n",
    "    return new_text\n",
    "\n",
    "sample_text = 'Python Exercises, PHP exercises.'\n",
    "output = replace_characters(sample_text)\n",
    "print(output)"
   ]
  },
  {
   "cell_type": "code",
   "execution_count": 2,
   "id": "826345fd-d05d-46bc-91b4-00639ae4df33",
   "metadata": {},
   "outputs": [
    {
     "name": "stdout",
     "output_type": "stream",
     "text": [
      "['Apple', 'an', 'amazing', 'Elephant', 'and', 'ant', 'are', 'animals']\n"
     ]
    }
   ],
   "source": [
    "import re\n",
    "\n",
    "def find_words_starting_with_a_or_e(text):\n",
    "    words = re.findall(r'\\b[aeAE]\\w+', text)\n",
    "    return words\n",
    "\n",
    "sample_text = \"Apple is an amazing fruit. Elephant and ant are animals.\"\n",
    "result = find_words_starting_with_a_or_e(sample_text)\n",
    "print(result)"
   ]
  },
  {
   "cell_type": "code",
   "execution_count": 3,
   "id": "c09ba72e-244e-4924-9dd1-be98b32b6bc4",
   "metadata": {},
   "outputs": [
    {
     "name": "stdout",
     "output_type": "stream",
     "text": [
      "['This', 'sample', 'text', 'with', 'various', 'words', 'different', 'lengths']\n"
     ]
    }
   ],
   "source": [
    "import re\n",
    "\n",
    "def find_long_words(text):\n",
    "    pattern = re.compile(r'\\b\\w{4,}\\b')\n",
    "    words = pattern.findall(text)\n",
    "    return words\n",
    "\n",
    "sample_text = \"This is a sample text with various words of different lengths.\"\n",
    "result = find_long_words(sample_text)\n",
    "print(result)"
   ]
  },
  {
   "cell_type": "code",
   "execution_count": 4,
   "id": "655b6389-c13c-4a63-a584-71379bc799ba",
   "metadata": {},
   "outputs": [
    {
     "name": "stdout",
     "output_type": "stream",
     "text": [
      "['This', 'text', 'with', 'words']\n"
     ]
    }
   ],
   "source": [
    "import re\n",
    "\n",
    "def find_specific_length_words(text):\n",
    "    pattern = re.compile(r'\\b\\w{3,5}\\b')\n",
    "    words = pattern.findall(text)\n",
    "    return words\n",
    "\n",
    "sample_text = \"This is a sample text with various words of different lengths.\"\n",
    "result = find_specific_length_words(sample_text)\n",
    "print(result)"
   ]
  },
  {
   "cell_type": "code",
   "execution_count": 5,
   "id": "8ee20c77-8be8-4458-9c9a-9db44739ad2f",
   "metadata": {},
   "outputs": [
    {
     "name": "stdout",
     "output_type": "stream",
     "text": [
      "example.com\n",
      "hr@fliprobo.com\n",
      "github.com\n",
      "HelloData Science World\n",
      "DataScientist\n"
     ]
    }
   ],
   "source": [
    "import re\n",
    "\n",
    "def remove_parentheses(strings):\n",
    "    pattern = re.compile(r'\\s?\\(([^)]*)\\)')\n",
    "    cleaned_strings = [pattern.sub(r'\\1', string) for string in strings]\n",
    "    return cleaned_strings\n",
    "\n",
    "sample_text = [\n",
    "    \"example (.com)\",\n",
    "    \"hr@fliprobo (.com)\",\n",
    "    \"github (.com)\",\n",
    "    \"Hello (Data Science World)\",\n",
    "    \"Data (Scientist)\"\n",
    "]\n",
    "\n",
    "result = remove_parentheses(sample_text)\n",
    "for string in result:\n",
    "    print(string)"
   ]
  },
  {
   "cell_type": "code",
   "execution_count": 6,
   "id": "12957a55-d833-42d6-bd96-ad8d5b689959",
   "metadata": {},
   "outputs": [
    {
     "name": "stdout",
     "output_type": "stream",
     "text": [
      "Text cleaned and saved back to the file.\n"
     ]
    }
   ],
   "source": [
    "import re\n",
    "\n",
    "def remove_parentheses(text):\n",
    "    pattern = re.compile(r'\\s?\\([^)]*\\)')\n",
    "    cleaned_text = pattern.sub('', text)\n",
    "    return cleaned_text\n",
    "\n",
    "file_path = \"sample_text.txt\"\n",
    "\n",
    "with open(file_path, \"r\") as file:\n",
    "    lines = file.readlines()\n",
    "\n",
    "cleaned_lines = [remove_parentheses(line) for line in lines]\n",
    "\n",
    "with open(file_path, \"w\") as file:\n",
    "    file.writelines(cleaned_lines)\n",
    "\n",
    "print(\"Text cleaned and saved back to the file.\")"
   ]
  },
  {
   "cell_type": "code",
   "execution_count": 7,
   "id": "225b4e9e-cdeb-4c75-9b0a-7d52a2ceb9b1",
   "metadata": {},
   "outputs": [
    {
     "name": "stdout",
     "output_type": "stream",
     "text": [
      "['Importance', 'Of', 'Regular', 'Expressions', 'In', 'Python']\n"
     ]
    }
   ],
   "source": [
    "import re\n",
    "\n",
    "sample_text = \"ImportanceOfRegularExpressionsInPython\"\n",
    "split_words = re.findall('[A-Z][a-z]*', sample_text)\n",
    "\n",
    "print(split_words)"
   ]
  },
  {
   "cell_type": "code",
   "execution_count": 8,
   "id": "b91f8a5d-1490-4dee-8c35-53d0ba5972de",
   "metadata": {},
   "outputs": [
    {
     "name": "stdout",
     "output_type": "stream",
     "text": [
      "RegularExpression1 IsAn2 ImportantTopic3 InPython\n"
     ]
    }
   ],
   "source": [
    "import re\n",
    "\n",
    "def insert_spaces_between_numbers(text):\n",
    "    modified_text = re.sub(r'(\\d)([A-Za-z])', r'\\1 \\2', text)\n",
    "    return modified_text\n",
    "\n",
    "sample_text = \"RegularExpression1IsAn2ImportantTopic3InPython\"\n",
    "output = insert_spaces_between_numbers(sample_text)\n",
    "print(output)"
   ]
  },
  {
   "cell_type": "code",
   "execution_count": 9,
   "id": "ca63055b-7082-491e-b1cb-ccbaeced223c",
   "metadata": {},
   "outputs": [
    {
     "name": "stdout",
     "output_type": "stream",
     "text": [
      "R egularE xpression1I sA n2I mportantT opic3I nP ython\n"
     ]
    }
   ],
   "source": [
    "import re\n",
    "\n",
    "def insert_spaces_between_words(text):\n",
    "    modified_text = re.sub(r'([A-Z\\d])([a-z])', r'\\1 \\2', text)\n",
    "    return modified_text\n",
    "\n",
    "sample_text = \"RegularExpression1IsAn2ImportantTopic3InPython\"\n",
    "output = insert_spaces_between_words(sample_text)\n",
    "print(output)"
   ]
  },
  {
   "cell_type": "code",
   "execution_count": 10,
   "id": "41882ea0-8ddf-4c28-bc42-79276825cc6b",
   "metadata": {},
   "outputs": [
    {
     "name": "stdout",
     "output_type": "stream",
     "text": [
      "hr@fliprobo.com\n",
      "hr@fliprobo\n"
     ]
    }
   ],
   "source": [
    "import re\n",
    "\n",
    "def extract_email_addresses(text):\n",
    "    pattern = re.compile(r'\\b[\\w\\.-]+@[\\w\\.-]+\\b')\n",
    "    email_addresses = pattern.findall(text)\n",
    "    return email_addresses\n",
    "\n",
    "file_path = \"sample1_text.txt\"\n",
    "\n",
    "with open(file_path, \"r\") as file:\n",
    "    text = file.read()\n",
    "\n",
    "email_addresses = extract_email_addresses(text)\n",
    "for email in email_addresses:\n",
    "    print(email)"
   ]
  },
  {
   "cell_type": "code",
   "execution_count": 11,
   "id": "6600d030-6858-40b3-9353-737da01a4218",
   "metadata": {},
   "outputs": [
    {
     "name": "stdout",
     "output_type": "stream",
     "text": [
      "Hello123 is a valid string.\n",
      "Python_Code is a valid string.\n",
      "user_name123 is a valid string.\n",
      "Invalid!String is not a valid string.\n"
     ]
    }
   ],
   "source": [
    "import re\n",
    "\n",
    "def validate_string(input_string):\n",
    "    pattern = re.compile(r'^[a-zA-Z0-9_]+$')\n",
    "    if pattern.match(input_string):\n",
    "        return True\n",
    "    else:\n",
    "        return False\n",
    "\n",
    "test_strings = [\"Hello123\", \"Python_Code\", \"user_name123\", \"Invalid!String\"]\n",
    "\n",
    "for string in test_strings:\n",
    "    if validate_string(string):\n",
    "        print(f\"{string} is a valid string.\")\n",
    "    else:\n",
    "        print(f\"{string} is not a valid string.\")"
   ]
  },
  {
   "cell_type": "code",
   "execution_count": 12,
   "id": "be843499-b20b-44b0-8f3d-ac1fdd491ee4",
   "metadata": {},
   "outputs": [
    {
     "name": "stdout",
     "output_type": "stream",
     "text": [
      "123ABC starts with 123.\n",
      "456XYZ does not start with 123.\n",
      "789Python does not start with 123.\n",
      "42Guide does not start with 123.\n"
     ]
    }
   ],
   "source": [
    "import re\n",
    "\n",
    "def starts_with_number(input_string, number):\n",
    "    pattern = re.compile(r'^' + str(number))\n",
    "    return bool(pattern.match(input_string))\n",
    "\n",
    "test_strings = [\"123ABC\", \"456XYZ\", \"789Python\", \"42Guide\"]\n",
    "\n",
    "specific_number = 123\n",
    "\n",
    "for string in test_strings:\n",
    "    if starts_with_number(string, specific_number):\n",
    "        print(f\"{string} starts with {specific_number}.\")\n",
    "    else:\n",
    "        print(f\"{string} does not start with {specific_number}.\")"
   ]
  },
  {
   "cell_type": "code",
   "execution_count": 13,
   "id": "9b6696f3-aa0d-4c73-918d-d52f392e0195",
   "metadata": {},
   "outputs": [
    {
     "name": "stdout",
     "output_type": "stream",
     "text": [
      "192.10.1.12\n"
     ]
    }
   ],
   "source": [
    "import re\n",
    "\n",
    "def remove_leading_zeros(ip_address):\n",
    "    pattern = re.compile(r'\\b0+(\\d+)\\b')\n",
    "    cleaned_ip_address = pattern.sub(r'\\1', ip_address)\n",
    "    return cleaned_ip_address\n",
    "\n",
    "ip_address = \"192.010.001.012\"\n",
    "cleaned_ip = remove_leading_zeros(ip_address)\n",
    "print(cleaned_ip)"
   ]
  },
  {
   "cell_type": "code",
   "execution_count": 17,
   "id": "681a9e03-b643-4cf7-8e58-5fef6344dc7e",
   "metadata": {},
   "outputs": [
    {
     "name": "stdout",
     "output_type": "stream",
     "text": [
      "No date found\n"
     ]
    }
   ],
   "source": [
    "import re\n",
    "\n",
    "def extract_date(text):\n",
    "    pattern = re.compile(r'\\b[A-Z][a-z]+\\s\\d+(?:st|nd|rd|th)\\s\\d{4}\\b')\n",
    "    date = pattern.search(text)\n",
    "    if date:\n",
    "        return date.group()\n",
    "    else:\n",
    "        return \"No date found\"\n",
    "\n",
    "file_path = \"sample2_text.txt\"\n",
    "\n",
    "with open(file_path, \"r\") as file:\n",
    "    text = file.read()\n",
    "\n",
    "date_string = extract_date(text)\n",
    "print(date_string)"
   ]
  },
  {
   "cell_type": "code",
   "execution_count": 18,
   "id": "da2bc42c-f74b-4e7f-9647-05b4d162b5ad",
   "metadata": {},
   "outputs": [
    {
     "name": "stdout",
     "output_type": "stream",
     "text": [
      "Found words: ['fox', 'dog']\n"
     ]
    }
   ],
   "source": [
    "import re\n",
    "\n",
    "def search_literals(text, searched_words):\n",
    "    pattern = re.compile(r'\\b(?:' + '|'.join(re.escape(word) for word in searched_words) + r')\\b', re.IGNORECASE)\n",
    "    found_words = pattern.findall(text)\n",
    "    return found_words\n",
    "\n",
    "sample_text = 'The quick brown fox jumps over the lazy dog.'\n",
    "searched_words = ['fox', 'dog', 'horse']\n",
    "\n",
    "found_words = search_literals(sample_text, searched_words)\n",
    "print(\"Found words:\", found_words)"
   ]
  },
  {
   "cell_type": "code",
   "execution_count": 19,
   "id": "55d251c5-f555-4792-98a2-43af09c04741",
   "metadata": {},
   "outputs": [
    {
     "name": "stdout",
     "output_type": "stream",
     "text": [
      "Occurrences of 'fox': [(16, 19)]\n"
     ]
    }
   ],
   "source": [
    "import re\n",
    "\n",
    "def search_and_locate(text, searched_word):\n",
    "    pattern = re.compile(re.escape(searched_word))\n",
    "    found_positions = [(match.start(), match.end()) for match in pattern.finditer(text)]\n",
    "    return found_positions\n",
    "\n",
    "sample_text = 'The quick brown fox jumps over the lazy dog.'\n",
    "searched_word = 'fox'\n",
    "\n",
    "found_positions = search_and_locate(sample_text, searched_word)\n",
    "print(f\"Occurrences of '{searched_word}':\", found_positions)"
   ]
  },
  {
   "cell_type": "code",
   "execution_count": 20,
   "id": "fd7fb4c8-6699-4a88-b181-e1e44eca23a0",
   "metadata": {},
   "outputs": [
    {
     "name": "stdout",
     "output_type": "stream",
     "text": [
      "Occurrences of 'exercises': [7, 22, 36]\n"
     ]
    }
   ],
   "source": [
    "import re\n",
    "\n",
    "def find_substrings(text, pattern):\n",
    "    found_positions = [match.start() for match in re.finditer(re.escape(pattern), text)]\n",
    "    return found_positions\n",
    "\n",
    "sample_text = 'Python exercises, PHP exercises, C# exercises'\n",
    "pattern = 'exercises'\n",
    "\n",
    "found_positions = find_substrings(sample_text, pattern)\n",
    "print(f\"Occurrences of '{pattern}':\", found_positions)"
   ]
  },
  {
   "cell_type": "code",
   "execution_count": 21,
   "id": "9ff6834e-1d4a-41e8-8510-33c103047d98",
   "metadata": {},
   "outputs": [
    {
     "name": "stdout",
     "output_type": "stream",
     "text": [
      "Occurrences of 'exercises': [(7, 16), (22, 31), (36, 45)]\n"
     ]
    }
   ],
   "source": [
    "import re\n",
    "\n",
    "def find_substring_occurrences(text, pattern):\n",
    "    found_positions = [(match.start(), match.end()) for match in re.finditer(re.escape(pattern), text)]\n",
    "    return found_positions\n",
    "\n",
    "sample_text = 'Python exercises, PHP exercises, C# exercises'\n",
    "pattern = 'exercises'\n",
    "\n",
    "found_positions = find_substring_occurrences(sample_text, pattern)\n",
    "print(f\"Occurrences of '{pattern}':\", found_positions)"
   ]
  },
  {
   "cell_type": "code",
   "execution_count": 22,
   "id": "cf9f4867-b25c-487d-ad6a-8af4a9a26558",
   "metadata": {},
   "outputs": [
    {
     "name": "stdout",
     "output_type": "stream",
     "text": [
      "Converted date: 07-08-2023\n"
     ]
    }
   ],
   "source": [
    "import re\n",
    "\n",
    "def convert_date_format(date):\n",
    "    pattern = re.compile(r'(\\d{4})-(\\d{2})-(\\d{2})')\n",
    "    converted_date = pattern.sub(r'\\3-\\2-\\1', date)\n",
    "    return converted_date\n",
    "\n",
    "date_yyyy_mm_dd = \"2023-08-07\"\n",
    "converted_date = convert_date_format(date_yyyy_mm_dd)\n",
    "print(\"Converted date:\", converted_date)"
   ]
  },
  {
   "cell_type": "code",
   "execution_count": 23,
   "id": "db87896f-b399-4c81-917e-64d7c01821a3",
   "metadata": {},
   "outputs": [
    {
     "name": "stdout",
     "output_type": "stream",
     "text": [
      "['5.0', '5.25', '10.75']\n"
     ]
    }
   ],
   "source": [
    "import re\n",
    "\n",
    "def find_decimal_numbers(text):\n",
    "    pattern = re.compile(r'\\b\\d+\\.\\d{1,2}\\b')\n",
    "    decimal_numbers = pattern.findall(text)\n",
    "    return decimal_numbers\n",
    "\n",
    "sample_text = \"The price is 5.0 dollars, but it could be 5.25 or 10.75 dollars.\"\n",
    "result = find_decimal_numbers(sample_text)\n",
    "print(result)"
   ]
  },
  {
   "cell_type": "code",
   "execution_count": 24,
   "id": "a6a43b11-2127-441f-98e3-a23fe1f5b89a",
   "metadata": {},
   "outputs": [
    {
     "name": "stdout",
     "output_type": "stream",
     "text": [
      "Number: 123, Position: 10\n",
      "Number: 456, Position: 25\n",
      "Number: 789, Position: 47\n"
     ]
    }
   ],
   "source": [
    "import re\n",
    "\n",
    "def separate_and_print_numbers(text):\n",
    "    pattern = re.compile(r'\\b\\d+\\b')\n",
    "    for match in pattern.finditer(text):\n",
    "        number = match.group()\n",
    "        position = match.start()\n",
    "        print(f\"Number: {number}, Position: {position}\")\n",
    "\n",
    "sample_text = \"There are 123 apples and 456 oranges, but only 789 bananas.\"\n",
    "separate_and_print_numbers(sample_text)"
   ]
  },
  {
   "cell_type": "code",
   "execution_count": 25,
   "id": "dad4bea7-0022-4efe-819a-8abbae5a4481",
   "metadata": {},
   "outputs": [
    {
     "name": "stdout",
     "output_type": "stream",
     "text": [
      "Maximum numeric value: 950\n"
     ]
    }
   ],
   "source": [
    "import re\n",
    "\n",
    "def extract_maximum_numeric_value(text):\n",
    "    pattern = re.compile(r'\\b\\d+\\b')\n",
    "    numeric_values = [int(match.group()) for match in pattern.finditer(text)]\n",
    "    max_value = max(numeric_values)\n",
    "    return max_value\n",
    "\n",
    "sample_text = 'My marks in each semester are: 947, 896, 926, 524, 734, 950, 642'\n",
    "max_numeric_value = extract_maximum_numeric_value(sample_text)\n",
    "print(\"Maximum numeric value:\", max_numeric_value)"
   ]
  },
  {
   "cell_type": "code",
   "execution_count": 26,
   "id": "15838d05-0698-496d-89c0-c3e957fd81fd",
   "metadata": {},
   "outputs": [
    {
     "name": "stdout",
     "output_type": "stream",
     "text": [
      "Regular Expression Is An Important Topic In Python\n"
     ]
    }
   ],
   "source": [
    "import re\n",
    "\n",
    "def insert_spaces_between_capital_words(text):\n",
    "    modified_text = re.sub(r'(?<=.)([A-Z])', r' \\1', text)\n",
    "    return modified_text\n",
    "\n",
    "sample_text = \"RegularExpressionIsAnImportantTopicInPython\"\n",
    "output = insert_spaces_between_capital_words(sample_text)\n",
    "print(output)"
   ]
  },
  {
   "cell_type": "code",
   "execution_count": 27,
   "id": "ed56555f-2119-46a4-a279-4e93f8b98c5a",
   "metadata": {},
   "outputs": [
    {
     "name": "stdout",
     "output_type": "stream",
     "text": [
      "['This', 'Sample', 'Text', 'Uppercase', 'Sequences', 'This', 'One', 'Another', 'One', 'Here']\n"
     ]
    }
   ],
   "source": [
    "import re\n",
    "\n",
    "text = \"This is a SampleText with UppercaseSequences like ThisOne and AnotherOneHere.\"\n",
    "\n",
    "pattern = re.compile(r'[A-Z][a-z]+')\n",
    "uppercase_sequences = pattern.findall(text)\n",
    "\n",
    "print(uppercase_sequences)"
   ]
  },
  {
   "cell_type": "code",
   "execution_count": 28,
   "id": "8f1cba3c-65bc-4147-a4de-625a9b6f5b1e",
   "metadata": {},
   "outputs": [
    {
     "name": "stdout",
     "output_type": "stream",
     "text": [
      "Hello hello world\n"
     ]
    }
   ],
   "source": [
    "import re\n",
    "\n",
    "def remove_continuous_duplicates(sentence):\n",
    "    cleaned_sentence = re.sub(r'(\\b\\w+\\b)(\\s+\\1)+', r'\\1', sentence)\n",
    "    return cleaned_sentence\n",
    "\n",
    "sample_text = \"Hello hello world\"\n",
    "output = remove_continuous_duplicates(sample_text)\n",
    "print(output)"
   ]
  },
  {
   "cell_type": "code",
   "execution_count": 29,
   "id": "f77c80ad-b3f3-4ba1-a913-262c776d9a4f",
   "metadata": {},
   "outputs": [
    {
     "name": "stdout",
     "output_type": "stream",
     "text": [
      "Hello123 ends with an alphanumeric character.\n",
      "Python_Code_ does not end with an alphanumeric character.\n",
      "user_name123_ does not end with an alphanumeric character.\n",
      "Invalid!String ends with an alphanumeric character.\n"
     ]
    }
   ],
   "source": [
    "import re\n",
    "\n",
    "def ends_with_alphanumeric(input_string):\n",
    "    pattern = re.compile(r'^.*[a-zA-Z0-9]$')\n",
    "    if pattern.match(input_string):\n",
    "        return True\n",
    "    else:\n",
    "        return False\n",
    "\n",
    "test_strings = [\"Hello123\", \"Python_Code_\", \"user_name123_\", \"Invalid!String\"]\n",
    "\n",
    "for string in test_strings:\n",
    "    if ends_with_alphanumeric(string):\n",
    "        print(f\"{string} ends with an alphanumeric character.\")\n",
    "    else:\n",
    "        print(f\"{string} does not end with an alphanumeric character.\")"
   ]
  },
  {
   "cell_type": "code",
   "execution_count": 30,
   "id": "cf5930e7-1870-4e78-8a13-0cc5ad42b50a",
   "metadata": {},
   "outputs": [
    {
     "name": "stdout",
     "output_type": "stream",
     "text": [
      "['#Doltiwal', '#xyzabc', '#Demonetization']\n"
     ]
    }
   ],
   "source": [
    "import re\n",
    "\n",
    "sample_text = \"\"\"RT @kapil_kausik: #Doltiwal I mean #xyzabc is \"hurt\" by #Demonetization as the same has rendered USELESS <ed><U+00A0><U+00BD><ed><U+00B1><U+0089> \"acquired funds\" No wo\"\"\"\n",
    "hashtags = re.findall(r'#\\w+', sample_text)\n",
    "\n",
    "print(hashtags)"
   ]
  },
  {
   "cell_type": "code",
   "execution_count": 31,
   "id": "c034d668-f4a2-41c9-a0db-e79d632de5a1",
   "metadata": {},
   "outputs": [
    {
     "name": "stdout",
     "output_type": "stream",
     "text": [
      "@Jags123456 Bharat band on 28??<ed><ed>Those who  are protesting #demonetization  are all different party leaders\n"
     ]
    }
   ],
   "source": [
    "import re\n",
    "\n",
    "sample_text = \"@Jags123456 Bharat band on 28??<ed><U+00A0><U+00BD><ed><U+00B8><U+0082>Those who  are protesting #demonetization  are all different party leaders\"\n",
    "cleaned_text = re.sub(r'<U\\+[A-F0-9]+>', '', sample_text)\n",
    "\n",
    "print(cleaned_text)"
   ]
  },
  {
   "cell_type": "code",
   "execution_count": 32,
   "id": "912f4a05-0a39-4868-a896-069945d4cfcb",
   "metadata": {},
   "outputs": [
    {
     "name": "stdout",
     "output_type": "stream",
     "text": [
      "['07-08-2023', '07-08-2023']\n"
     ]
    }
   ],
   "source": [
    "import re\n",
    "\n",
    "def extract_dates_from_file(file_path):\n",
    "    with open(file_path, 'r') as file:\n",
    "        text = file.read()\n",
    "        dates = re.findall(r'\\d{2}-\\d{2}-\\d{4}', text)\n",
    "        return dates\n",
    "\n",
    "file_path = \"sample4_text.txt\"\n",
    "dates = extract_dates_from_file(file_path)\n",
    "\n",
    "print(dates)"
   ]
  },
  {
   "cell_type": "code",
   "execution_count": 33,
   "id": "8a98cc6c-4b26-40bc-9e8c-df1597a206df",
   "metadata": {},
   "outputs": [
    {
     "name": "stdout",
     "output_type": "stream",
     "text": [
      " following example creates  ArrayList  a capacity   elements. 4 elements   added   ArrayList   ArrayList  trimmed accordingly.\n"
     ]
    }
   ],
   "source": [
    "import re\n",
    "\n",
    "def remove_words_length_2_to_4(text):\n",
    "    pattern = re.compile(r'\\b\\w{2,4}\\b')\n",
    "    cleaned_text = pattern.sub('', text)\n",
    "    return cleaned_text\n",
    "\n",
    "sample_text = \"The following example creates an ArrayList with a capacity of 50 elements. 4 elements are then added to the ArrayList and the ArrayList is trimmed accordingly.\"\n",
    "output = remove_words_length_2_to_4(sample_text)\n",
    "\n",
    "print(output)"
   ]
  },
  {
   "cell_type": "code",
   "execution_count": null,
   "id": "fd24c7eb-9d0e-4eb9-81aa-b69e5e97c0b1",
   "metadata": {},
   "outputs": [],
   "source": []
  }
 ],
 "metadata": {
  "kernelspec": {
   "display_name": "Python 3 (ipykernel)",
   "language": "python",
   "name": "python3"
  },
  "language_info": {
   "codemirror_mode": {
    "name": "ipython",
    "version": 3
   },
   "file_extension": ".py",
   "mimetype": "text/x-python",
   "name": "python",
   "nbconvert_exporter": "python",
   "pygments_lexer": "ipython3",
   "version": "3.9.13"
  }
 },
 "nbformat": 4,
 "nbformat_minor": 5
}
